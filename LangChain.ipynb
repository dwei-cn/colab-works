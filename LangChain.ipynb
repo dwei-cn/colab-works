{
  "nbformat": 4,
  "nbformat_minor": 0,
  "metadata": {
    "colab": {
      "provenance": [],
      "authorship_tag": "ABX9TyOJX8dwiDRdlleRyVMBawyi",
      "include_colab_link": true
    },
    "kernelspec": {
      "name": "python3",
      "display_name": "Python 3"
    },
    "language_info": {
      "name": "python"
    }
  },
  "cells": [
    {
      "cell_type": "markdown",
      "metadata": {
        "id": "view-in-github",
        "colab_type": "text"
      },
      "source": [
        "<a href=\"https://colab.research.google.com/github/dwei-cn/colab-works/blob/main/LangChain.ipynb\" target=\"_parent\"><img src=\"https://colab.research.google.com/assets/colab-badge.svg\" alt=\"Open In Colab\"/></a>"
      ]
    },
    {
      "cell_type": "markdown",
      "source": [
        "source: [LangChain Explained In 15 Minutes - A MUST Learn For Python Programmers](https://www.youtube.com/watch?v=mrjq3lFz23s&t=228s)"
      ],
      "metadata": {
        "id": "0PtFVDNdbsXL"
      }
    },
    {
      "cell_type": "markdown",
      "source": [
        "# Load the model"
      ],
      "metadata": {
        "id": "Q3ouwc71-2Ny"
      }
    },
    {
      "cell_type": "code",
      "execution_count": null,
      "metadata": {
        "id": "eAsKBwe619Wd"
      },
      "outputs": [],
      "source": [
        "#pip install langchain[llms]"
      ]
    },
    {
      "cell_type": "code",
      "source": [
        "#pip install openai"
      ],
      "metadata": {
        "id": "yzuqqlwz2Aqs"
      },
      "execution_count": null,
      "outputs": []
    },
    {
      "cell_type": "code",
      "source": [
        "#pip install python-dotenv"
      ],
      "metadata": {
        "id": "Jxsfegra2AoP"
      },
      "execution_count": null,
      "outputs": []
    },
    {
      "cell_type": "code",
      "source": [
        "from langchain.chat_models import ChatOpenAI\n",
        "from langchain.schema import HumanMessage, BaseOutputParser\n",
        "from langchain.prompts.chat import ChatPromptTemplate\n",
        "from dotenv import load_dotenv\n",
        "import os"
      ],
      "metadata": {
        "id": "fsrPO3UZ2r5c"
      },
      "execution_count": null,
      "outputs": []
    },
    {
      "cell_type": "code",
      "source": [
        "load_dotenv()"
      ],
      "metadata": {
        "colab": {
          "base_uri": "https://localhost:8080/"
        },
        "id": "MSAyDcMi2r2s",
        "outputId": "d0b8b320-1666-4507-a5c3-6295704a061b"
      },
      "execution_count": null,
      "outputs": [
        {
          "output_type": "execute_result",
          "data": {
            "text/plain": [
              "False"
            ]
          },
          "metadata": {},
          "execution_count": 106
        }
      ]
    },
    {
      "cell_type": "code",
      "source": [
        "# save keys in .env file\n",
        "api_key = os.getenv(\"OPENAI_API_KEY\")"
      ],
      "metadata": {
        "id": "nEAuy-D02rzx"
      },
      "execution_count": null,
      "outputs": []
    },
    {
      "cell_type": "code",
      "source": [
        "chat_model = ChatOpenAI(openai_api_key=\"sk-CzE2qpLtQqiyDsuDLx4MT3BlbkFJVDsMFdud80mIhx0EBpo\")"
      ],
      "metadata": {
        "id": "hURGF0C_2rxV"
      },
      "execution_count": null,
      "outputs": []
    },
    {
      "cell_type": "markdown",
      "source": [
        "# Example 1"
      ],
      "metadata": {
        "id": "B9_70aN3-t1h"
      }
    },
    {
      "cell_type": "code",
      "source": [
        "result = chat_model.predict(\"hi!\")"
      ],
      "metadata": {
        "id": "I2qksO5U2ruk"
      },
      "execution_count": null,
      "outputs": []
    },
    {
      "cell_type": "code",
      "source": [
        "result"
      ],
      "metadata": {
        "id": "Q6_75aFL2rrl",
        "colab": {
          "base_uri": "https://localhost:8080/",
          "height": 35
        },
        "outputId": "c9532c58-5afe-4d9f-d011-bb541f6e8da3"
      },
      "execution_count": null,
      "outputs": [
        {
          "output_type": "execute_result",
          "data": {
            "text/plain": [
              "'Hello! How can I assist you today?'"
            ],
            "application/vnd.google.colaboratory.intrinsic+json": {
              "type": "string"
            }
          },
          "metadata": {},
          "execution_count": 110
        }
      ]
    },
    {
      "cell_type": "markdown",
      "source": [
        "# Example 2"
      ],
      "metadata": {
        "id": "0PagWv---xv_"
      }
    },
    {
      "cell_type": "code",
      "source": [
        "messages = [HumanMessage(content = 'where is the capital of chile?'),\n",
        "            HumanMessage(content = 'How old was JFK when he was shoot?'),\n",
        "            HumanMessage(content = 'what is 1+1+1?'),\n",
        "            HumanMessage(content = 'can you answer all questions above?')\n",
        "            ]"
      ],
      "metadata": {
        "id": "0fuWW9nS2roh"
      },
      "execution_count": null,
      "outputs": []
    },
    {
      "cell_type": "code",
      "source": [
        "result = chat_model.predict_messages(messages)"
      ],
      "metadata": {
        "id": "64QQFulj2Alj"
      },
      "execution_count": null,
      "outputs": []
    },
    {
      "cell_type": "code",
      "source": [
        "print(result.content)"
      ],
      "metadata": {
        "id": "PpqYIaH12Ai3",
        "colab": {
          "base_uri": "https://localhost:8080/"
        },
        "outputId": "00d018e2-738b-450e-bc58-766668f0fc07"
      },
      "execution_count": null,
      "outputs": [
        {
          "output_type": "stream",
          "name": "stdout",
          "text": [
            "Yes, I can answer all of the questions above.\n",
            "\n",
            "The capital of Chile is Santiago.\n",
            "\n",
            "John F. Kennedy (JFK) was 46 years old when he was assassinated.\n",
            "\n",
            "1 + 1 + 1 equals 3.\n"
          ]
        }
      ]
    },
    {
      "cell_type": "markdown",
      "source": [
        "# Example 3 (multiple msgs)"
      ],
      "metadata": {
        "id": "q7FO0iTl-z1c"
      }
    },
    {
      "cell_type": "code",
      "source": [
        "messages = [HumanMessage(content = 'from now on 1+1=3, use this in your replies'),\n",
        "            HumanMessage(content = 'what is 1+1?'),\n",
        "            HumanMessage(content = 'what is 1+1+1?')\n",
        "            ]"
      ],
      "metadata": {
        "id": "8C9Wtpdo2AgN"
      },
      "execution_count": null,
      "outputs": []
    },
    {
      "cell_type": "code",
      "source": [
        "result = chat_model.predict_messages(messages)"
      ],
      "metadata": {
        "id": "OdAbgDga2Ade"
      },
      "execution_count": null,
      "outputs": []
    },
    {
      "cell_type": "code",
      "source": [
        "print(result.content)"
      ],
      "metadata": {
        "colab": {
          "base_uri": "https://localhost:8080/"
        },
        "id": "qRr-Cmlt8PiX",
        "outputId": "9c1832f4-0408-4d6b-e485-4bc4f2831611"
      },
      "execution_count": null,
      "outputs": [
        {
          "output_type": "stream",
          "name": "stdout",
          "text": [
            "According to the new rule, 1+1 equals 3. Therefore, 1+1+1 would equal 3+1, which equals 4.\n"
          ]
        }
      ]
    },
    {
      "cell_type": "markdown",
      "source": [
        "# Example 4 (prompt templates)\n",
        "\n",
        "- template，规定question和answer大概的情况，like 类别，输出形式\n",
        "- human answer，具体问题\n",
        "- answer parser，parse answer为可输出的形式"
      ],
      "metadata": {
        "id": "mQdeJdxS_9K4"
      }
    },
    {
      "cell_type": "code",
      "source": [
        "template = \"You are a helpful assistant that translate {input_language} to {output_language}\"\n",
        "human_template = \"{text}\""
      ],
      "metadata": {
        "id": "He4X-kZp8PVx"
      },
      "execution_count": null,
      "outputs": []
    },
    {
      "cell_type": "code",
      "source": [
        "chat_prompt = ChatPromptTemplate.from_messages([\n",
        "    ('system', template),\n",
        "    ('human', human_template)\n",
        "])"
      ],
      "metadata": {
        "id": "8F0S4rBPAMTp"
      },
      "execution_count": null,
      "outputs": []
    },
    {
      "cell_type": "code",
      "source": [
        "messages = chat_prompt.format_messages(input_language = \"English\",\n",
        "                                       output_language = \"Chinese\",\n",
        "                                       text = \"I love programming.\")"
      ],
      "metadata": {
        "id": "21--uutZ8PBu"
      },
      "execution_count": null,
      "outputs": []
    },
    {
      "cell_type": "code",
      "source": [
        "result = chat_model.predict_messages(messages)"
      ],
      "metadata": {
        "id": "eLPU-WFR8N7R"
      },
      "execution_count": null,
      "outputs": []
    },
    {
      "cell_type": "code",
      "source": [
        "result"
      ],
      "metadata": {
        "colab": {
          "base_uri": "https://localhost:8080/"
        },
        "id": "Gh6K7TWU8NLJ",
        "outputId": "70aa6b3e-ce80-4134-8cc7-50b7f4232e29"
      },
      "execution_count": null,
      "outputs": [
        {
          "output_type": "execute_result",
          "data": {
            "text/plain": [
              "AIMessage(content='我喜欢编程。')"
            ]
          },
          "metadata": {},
          "execution_count": 121
        }
      ]
    },
    {
      "cell_type": "markdown",
      "source": [
        "# Example 5  (output parser)"
      ],
      "metadata": {
        "id": "9W0g41JvPRS5"
      }
    },
    {
      "cell_type": "code",
      "source": [
        "class AnswerOutputParser(BaseOutputParser):\n",
        "  def parse(self, text: str):\n",
        "    \"\"\"parse the output of an LLM call.\"\"\"\n",
        "    return text.strip().split(\"answer =\")"
      ],
      "metadata": {
        "id": "Zrs0H4p3A7Oc"
      },
      "execution_count": null,
      "outputs": []
    },
    {
      "cell_type": "code",
      "source": [
        "template = \"\"\"you are a helpful assistant that solves math problems and show your work.\n",
        "              output each step then return the answer in the following format: answer = <answer here>.\n",
        "              make sure to output answer in all lowercases adn to have exactly one space and one equal sign following it.\n",
        "              \"\"\""
      ],
      "metadata": {
        "id": "jmCvjqx0A7Lu"
      },
      "execution_count": null,
      "outputs": []
    },
    {
      "cell_type": "code",
      "source": [
        "human_template = \"{problem}\""
      ],
      "metadata": {
        "id": "lopXoQpXA7JP"
      },
      "execution_count": null,
      "outputs": []
    },
    {
      "cell_type": "code",
      "source": [
        "chat_prompt = ChatPromptTemplate.from_messages([\n",
        "    (\"system\", template),\n",
        "    (\"human\", human_template)\n",
        "])"
      ],
      "metadata": {
        "id": "4nTXzyh0A7Gp"
      },
      "execution_count": null,
      "outputs": []
    },
    {
      "cell_type": "code",
      "source": [
        "messages = chat_prompt.format_messages(problem = \"2x^2-5x+3=0\")\n",
        "result = chat_model.predict_messages(messages)\n",
        "result.content = result.content.lower()"
      ],
      "metadata": {
        "id": "Rp7LNr3AA7EL"
      },
      "execution_count": null,
      "outputs": []
    },
    {
      "cell_type": "code",
      "source": [
        "parsed = AnswerOutputParser().parse(result.content)"
      ],
      "metadata": {
        "id": "Hu29K82rSDhU"
      },
      "execution_count": null,
      "outputs": []
    },
    {
      "cell_type": "code",
      "source": [
        "steps, answer = parsed"
      ],
      "metadata": {
        "id": "TL1G8KZfA7Bl"
      },
      "execution_count": null,
      "outputs": []
    },
    {
      "cell_type": "code",
      "source": [
        "print(steps)"
      ],
      "metadata": {
        "id": "JLbdii8Y2AW-",
        "colab": {
          "base_uri": "https://localhost:8080/"
        },
        "outputId": "46d2e376-1200-495c-bd6a-7005476c7f3c"
      },
      "execution_count": null,
      "outputs": [
        {
          "output_type": "stream",
          "name": "stdout",
          "text": [
            "to solve the quadratic equation 2x^2 - 5x + 3 = 0, we can use the quadratic formula.\n",
            "\n",
            "the quadratic formula states that for an equation of the form ax^2 + bx + c = 0, the solutions for x can be found using the formula:\n",
            "\n",
            "x = (-b ± √(b^2 - 4ac)) / (2a)\n",
            "\n",
            "in our equation, a = 2, b = -5, and c = 3.\n",
            "\n",
            "substituting these values into the quadratic formula, we get:\n",
            "\n",
            "x = (-(-5) ± √((-5)^2 - 4(2)(3))) / (2(2))\n",
            "\n",
            "simplifying further:\n",
            "\n",
            "x = (5 ± √(25 - 24)) / 4\n",
            "x = (5 ± √1) / 4\n",
            "\n",
            "since the square root of 1 is 1, we have:\n",
            "\n",
            "x = (5 + 1) / 4 or x = (5 - 1) / 4\n",
            "\n",
            "simplifying these expressions, we get:\n",
            "\n",
            "x = 6 / 4 or x = 4 / 4\n",
            "x = 3/2 or x = 1\n",
            "\n",
            "therefore, the solutions to the equation 2x^2 - 5x + 3 = 0 are x = 3/2 and x = 1.\n",
            "\n",
            "\n"
          ]
        }
      ]
    },
    {
      "cell_type": "code",
      "source": [
        "print(answer)"
      ],
      "metadata": {
        "colab": {
          "base_uri": "https://localhost:8080/"
        },
        "id": "ZQl_f7L1SKU3",
        "outputId": "2a381108-d9ee-4813-c6d6-e23c783497f9"
      },
      "execution_count": null,
      "outputs": [
        {
          "output_type": "stream",
          "name": "stdout",
          "text": [
            " x = 3/2, 1.\n"
          ]
        }
      ]
    },
    {
      "cell_type": "markdown",
      "source": [
        "# Example 6  (creating a chain)"
      ],
      "metadata": {
        "id": "zVmNPFN3USwC"
      }
    },
    {
      "cell_type": "code",
      "source": [
        "class CommaSeparatedListOutputParser(BaseOutputParser):\n",
        "  def parse(self, text: str):\n",
        "    \"\"\"parse the output of an LLM call.\"\"\"\n",
        "    return text.strip().split(\", \")"
      ],
      "metadata": {
        "id": "FyVG-pRcUROu"
      },
      "execution_count": null,
      "outputs": []
    },
    {
      "cell_type": "code",
      "source": [
        "template = \"\"\"\n",
        "           you are a helpful assistant that generate comma seperated list.\n",
        "           a user will pass in a CATEGORY, and you should generate 5 objects in that CATEGORY in a comma seperated list.\n",
        "           only return a comma seperated list, and nothing more.\n",
        "           \"\"\"\n"
      ],
      "metadata": {
        "id": "WkLY_v45URMR"
      },
      "execution_count": null,
      "outputs": []
    },
    {
      "cell_type": "code",
      "source": [
        "human_template = \"{text}\""
      ],
      "metadata": {
        "id": "0uKWd9URURJy"
      },
      "execution_count": null,
      "outputs": []
    },
    {
      "cell_type": "code",
      "source": [
        "chat_prompt = ChatPromptTemplate.from_messages({\n",
        "    (\"system\", template),\n",
        "    (\"human\", human_template)\n",
        "})"
      ],
      "metadata": {
        "id": "0PbS4FfkURHM"
      },
      "execution_count": null,
      "outputs": []
    },
    {
      "cell_type": "code",
      "source": [
        "chain = chat_prompt | chat_model | CommaSeparatedListOutputParser()"
      ],
      "metadata": {
        "id": "hOGN7nx2UREk"
      },
      "execution_count": null,
      "outputs": []
    },
    {
      "cell_type": "code",
      "source": [
        "result = chain.invoke({'text': 'high dividends/preferred stocks etf'})  # give a category"
      ],
      "metadata": {
        "id": "3c-RAWC3URB2"
      },
      "execution_count": null,
      "outputs": []
    },
    {
      "cell_type": "code",
      "source": [
        "print(result)"
      ],
      "metadata": {
        "colab": {
          "base_uri": "https://localhost:8080/"
        },
        "id": "eSdhAa-AUQ_T",
        "outputId": "0e3219a5-0a09-44c5-edcd-70ae86ee481e"
      },
      "execution_count": null,
      "outputs": [
        {
          "output_type": "stream",
          "name": "stdout",
          "text": [
            "['VYM', 'SPHD', 'SDY', 'DVY', 'PFF']\n"
          ]
        }
      ]
    },
    {
      "cell_type": "code",
      "source": [],
      "metadata": {
        "id": "y9LfwiS8XNkD"
      },
      "execution_count": null,
      "outputs": []
    },
    {
      "cell_type": "code",
      "source": [],
      "metadata": {
        "id": "-fOBECQkXNhD"
      },
      "execution_count": null,
      "outputs": []
    },
    {
      "cell_type": "code",
      "source": [],
      "metadata": {
        "id": "_Bp4slb9XNeW"
      },
      "execution_count": null,
      "outputs": []
    },
    {
      "cell_type": "code",
      "source": [],
      "metadata": {
        "id": "MxxhzHuBUQ8c"
      },
      "execution_count": null,
      "outputs": []
    },
    {
      "cell_type": "code",
      "source": [],
      "metadata": {
        "id": "1R69vF73UQ5l"
      },
      "execution_count": null,
      "outputs": []
    },
    {
      "cell_type": "code",
      "source": [],
      "metadata": {
        "id": "5wAEkj29UQ23"
      },
      "execution_count": null,
      "outputs": []
    },
    {
      "cell_type": "code",
      "source": [],
      "metadata": {
        "id": "wAgNAT9_SMOw"
      },
      "execution_count": null,
      "outputs": []
    }
  ]
}